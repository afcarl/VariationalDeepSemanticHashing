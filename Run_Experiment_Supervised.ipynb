{
 "cells": [
  {
   "cell_type": "code",
   "execution_count": 1,
   "metadata": {
    "collapsed": false
   },
   "outputs": [],
   "source": [
    "import tensorflow as tf\n",
    "import numpy as np\n",
    "from utils import *\n",
    "from VDSH_S import *\n",
    "from VDSH_SP import *\n",
    "from __future__ import print_function\n",
    "\n",
    "filename = 'dataset/ng20.tfidf.mat'\n",
    "data = Load_Dataset(filename)\n",
    "\n",
    "latent_dim = 32\n",
    "sess = get_session(\"1\", 0.10)\n",
    "model = VDSH_S(sess, latent_dim, data.n_feas, data.n_tags, use_cross_entropy=True)"
   ]
  },
  {
   "cell_type": "code",
   "execution_count": 2,
   "metadata": {
    "collapsed": false
   },
   "outputs": [],
   "source": [
    "# create an optimizer\n",
    "learning_rate=0.001\n",
    "decay_rate = 0.96\n",
    "#decay_step = 10000\n",
    "step = tf.Variable(0, trainable=False)  \n",
    "lr = tf.train.exponential_decay(learning_rate, \n",
    "                                step, \n",
    "                                10000, \n",
    "                                decay_rate, \n",
    "                                staircase=True, name=\"lr\")\n",
    "\n",
    "my_optimizer = tf.train.AdamOptimizer(learning_rate=lr) \\\n",
    "                     .minimize(model.cost, global_step=step)\n",
    "    \n",
    "init = tf.global_variables_initializer()\n",
    "model.sess.run(init)"
   ]
  },
  {
   "cell_type": "code",
   "execution_count": 3,
   "metadata": {
    "collapsed": false
   },
   "outputs": [
    {
     "name": "stdout",
     "output_type": "stream",
     "text": [
      "Epoch:1/15 10950/11016: Loss:7103.933 AvgLoss:1506.846"
     ]
    },
    {
     "name": "stderr",
     "output_type": "stream",
     "text": [
      "  1%|          | 108/11016 [00:00<00:10, 1074.66it/s]"
     ]
    },
    {
     "name": "stdout",
     "output_type": "stream",
     "text": [
      "\r",
      "Epoch:1/15 11000/11016: Loss:9595.529 AvgLoss:1538.058"
     ]
    },
    {
     "name": "stderr",
     "output_type": "stream",
     "text": [
      "100%|██████████| 11016/11016 [00:07<00:00, 1380.24it/s]\n",
      "100%|██████████| 3667/3667 [00:02<00:00, 1437.68it/s]\n"
     ]
    },
    {
     "name": "stdout",
     "output_type": "stream",
     "text": [
      "Retrieve Top100 candidates using hamming distance\n"
     ]
    },
    {
     "name": "stderr",
     "output_type": "stream",
     "text": [
      "100%|██████████| 3667/3667 [01:16<00:00, 48.23it/s]\n"
     ]
    },
    {
     "name": "stdout",
     "output_type": "stream",
     "text": [
      "\n",
      "Prec@K = 0.1187, Recall@K = 0.0212, NDCG@K = 0.4173\n",
      "Epoch:2/15 10950/11016: Loss:6602.480 AvgLoss:1363.100"
     ]
    },
    {
     "name": "stderr",
     "output_type": "stream",
     "text": [
      "  1%|          | 114/11016 [00:00<00:09, 1135.88it/s]"
     ]
    },
    {
     "name": "stdout",
     "output_type": "stream",
     "text": [
      "\r",
      "Epoch:2/15 11000/11016: Loss:8764.420 AvgLoss:1391.688"
     ]
    },
    {
     "name": "stderr",
     "output_type": "stream",
     "text": [
      "100%|██████████| 11016/11016 [00:10<00:00, 1005.96it/s]\n",
      "100%|██████████| 3667/3667 [00:04<00:00, 829.90it/s]\n"
     ]
    },
    {
     "name": "stdout",
     "output_type": "stream",
     "text": [
      "Retrieve Top100 candidates using hamming distance\n"
     ]
    },
    {
     "name": "stderr",
     "output_type": "stream",
     "text": [
      "100%|██████████| 3667/3667 [01:16<00:00, 48.02it/s]\n"
     ]
    },
    {
     "name": "stdout",
     "output_type": "stream",
     "text": [
      "\n",
      "Prec@K = 0.1060, Recall@K = 0.0190, NDCG@K = 0.4017\n",
      "Epoch:3/15 10950/11016: Loss:6206.361 AvgLoss:1231.747"
     ]
    },
    {
     "name": "stderr",
     "output_type": "stream",
     "text": [
      "  1%|          | 116/11016 [00:00<00:09, 1159.50it/s]"
     ]
    },
    {
     "name": "stdout",
     "output_type": "stream",
     "text": [
      "\r",
      "Epoch:3/15 11000/11016: Loss:9168.666 AvgLoss:1257.993"
     ]
    },
    {
     "name": "stderr",
     "output_type": "stream",
     "text": [
      "100%|██████████| 11016/11016 [00:10<00:00, 1026.60it/s]\n",
      "100%|██████████| 3667/3667 [00:03<00:00, 1187.70it/s]\n"
     ]
    },
    {
     "name": "stdout",
     "output_type": "stream",
     "text": [
      "Retrieve Top100 candidates using hamming distance\n"
     ]
    },
    {
     "name": "stderr",
     "output_type": "stream",
     "text": [
      "100%|██████████| 3667/3667 [01:13<00:00, 45.31it/s]\n"
     ]
    },
    {
     "name": "stdout",
     "output_type": "stream",
     "text": [
      "\n",
      "Prec@K = 0.1219, Recall@K = 0.0218, NDCG@K = 0.4125\n",
      "Epoch:4/15 10950/11016: Loss:5694.159 AvgLoss:1129.450"
     ]
    },
    {
     "name": "stderr",
     "output_type": "stream",
     "text": [
      "  1%|          | 109/11016 [00:00<00:10, 1087.25it/s]"
     ]
    },
    {
     "name": "stdout",
     "output_type": "stream",
     "text": [
      "\r",
      "Epoch:4/15 11000/11016: Loss:7882.833 AvgLoss:1153.474"
     ]
    },
    {
     "name": "stderr",
     "output_type": "stream",
     "text": [
      "100%|██████████| 11016/11016 [00:10<00:00, 1050.57it/s]\n",
      "100%|██████████| 3667/3667 [00:03<00:00, 1034.35it/s]\n"
     ]
    },
    {
     "name": "stdout",
     "output_type": "stream",
     "text": [
      "Retrieve Top100 candidates using hamming distance\n"
     ]
    },
    {
     "name": "stderr",
     "output_type": "stream",
     "text": [
      "100%|██████████| 3667/3667 [01:15<00:00, 48.25it/s]\n"
     ]
    },
    {
     "name": "stdout",
     "output_type": "stream",
     "text": [
      "\n",
      "Prec@K = 0.1380, Recall@K = 0.0247, NDCG@K = 0.4243\n",
      "Epoch:5/15 10950/11016: Loss:5203.099 AvgLoss:1060.995"
     ]
    },
    {
     "name": "stderr",
     "output_type": "stream",
     "text": [
      "  1%|          | 91/11016 [00:00<00:12, 905.38it/s]"
     ]
    },
    {
     "name": "stdout",
     "output_type": "stream",
     "text": [
      "\r",
      "Epoch:5/15 11000/11016: Loss:7143.035 AvgLoss:1083.782"
     ]
    },
    {
     "name": "stderr",
     "output_type": "stream",
     "text": [
      "100%|██████████| 11016/11016 [00:08<00:00, 1269.31it/s]\n",
      "100%|██████████| 3667/3667 [00:02<00:00, 1235.17it/s]\n"
     ]
    },
    {
     "name": "stdout",
     "output_type": "stream",
     "text": [
      "Retrieve Top100 candidates using hamming distance\n"
     ]
    },
    {
     "name": "stderr",
     "output_type": "stream",
     "text": [
      "100%|██████████| 3667/3667 [01:17<00:00, 47.55it/s]\n"
     ]
    },
    {
     "name": "stdout",
     "output_type": "stream",
     "text": [
      "\n",
      "Prec@K = 0.2153, Recall@K = 0.0382, NDCG@K = 0.5012\n",
      "Epoch:6/15 10950/11016: Loss:5368.469 AvgLoss:1008.908"
     ]
    },
    {
     "name": "stderr",
     "output_type": "stream",
     "text": [
      "  1%|▏         | 139/11016 [00:00<00:07, 1383.87it/s]"
     ]
    },
    {
     "name": "stdout",
     "output_type": "stream",
     "text": [
      "\r",
      "Epoch:6/15 11000/11016: Loss:6996.733 AvgLoss:1030.657"
     ]
    },
    {
     "name": "stderr",
     "output_type": "stream",
     "text": [
      "100%|██████████| 11016/11016 [00:11<00:00, 998.30it/s]\n",
      "100%|██████████| 3667/3667 [00:04<00:00, 882.32it/s]\n"
     ]
    },
    {
     "name": "stdout",
     "output_type": "stream",
     "text": [
      "Retrieve Top100 candidates using hamming distance\n"
     ]
    },
    {
     "name": "stderr",
     "output_type": "stream",
     "text": [
      "100%|██████████| 3667/3667 [01:17<00:00, 47.25it/s]\n"
     ]
    },
    {
     "name": "stdout",
     "output_type": "stream",
     "text": [
      "\n",
      "Prec@K = 0.3660, Recall@K = 0.0645, NDCG@K = 0.6175\n",
      "Epoch:7/15 10950/11016: Loss:4837.178 AvgLoss:963.402"
     ]
    },
    {
     "name": "stderr",
     "output_type": "stream",
     "text": [
      "  1%|          | 122/11016 [00:00<00:08, 1219.41it/s]"
     ]
    },
    {
     "name": "stdout",
     "output_type": "stream",
     "text": [
      "\r",
      "Epoch:7/15 11000/11016: Loss:6877.133 AvgLoss:984.579"
     ]
    },
    {
     "name": "stderr",
     "output_type": "stream",
     "text": [
      "100%|██████████| 11016/11016 [00:11<00:00, 991.81it/s]\n",
      "100%|██████████| 3667/3667 [00:03<00:00, 1023.13it/s]\n"
     ]
    },
    {
     "name": "stdout",
     "output_type": "stream",
     "text": [
      "Retrieve Top100 candidates using hamming distance\n"
     ]
    },
    {
     "name": "stderr",
     "output_type": "stream",
     "text": [
      "100%|██████████| 3667/3667 [01:18<00:00, 46.58it/s]\n"
     ]
    },
    {
     "name": "stdout",
     "output_type": "stream",
     "text": [
      "\n",
      "Prec@K = 0.4979, Recall@K = 0.0881, NDCG@K = 0.6936\n",
      "Epoch:8/15 10950/11016: Loss:4603.667 AvgLoss:923.051"
     ]
    },
    {
     "name": "stderr",
     "output_type": "stream",
     "text": [
      "  1%|          | 113/11016 [00:00<00:09, 1129.28it/s]"
     ]
    },
    {
     "name": "stdout",
     "output_type": "stream",
     "text": [
      "\r",
      "Epoch:8/15 11000/11016: Loss:6517.476 AvgLoss:944.044"
     ]
    },
    {
     "name": "stderr",
     "output_type": "stream",
     "text": [
      "100%|██████████| 11016/11016 [00:08<00:00, 1360.11it/s]\n",
      "100%|██████████| 3667/3667 [00:02<00:00, 1331.01it/s]\n"
     ]
    },
    {
     "name": "stdout",
     "output_type": "stream",
     "text": [
      "Retrieve Top100 candidates using hamming distance\n"
     ]
    },
    {
     "name": "stderr",
     "output_type": "stream",
     "text": [
      "100%|██████████| 3667/3667 [01:18<00:00, 48.04it/s]\n"
     ]
    },
    {
     "name": "stdout",
     "output_type": "stream",
     "text": [
      "\n",
      "Prec@K = 0.5975, Recall@K = 0.1063, NDCG@K = 0.7459\n",
      "Epoch:9/15 10950/11016: Loss:4457.058 AvgLoss:890.253"
     ]
    },
    {
     "name": "stderr",
     "output_type": "stream",
     "text": [
      "  1%|          | 114/11016 [00:00<00:09, 1133.95it/s]"
     ]
    },
    {
     "name": "stdout",
     "output_type": "stream",
     "text": [
      "\r",
      "Epoch:9/15 11000/11016: Loss:6287.643 AvgLoss:910.766"
     ]
    },
    {
     "name": "stderr",
     "output_type": "stream",
     "text": [
      "100%|██████████| 11016/11016 [00:09<00:00, 1160.22it/s]\n",
      "100%|██████████| 3667/3667 [00:02<00:00, 1270.13it/s]\n"
     ]
    },
    {
     "name": "stdout",
     "output_type": "stream",
     "text": [
      "Retrieve Top100 candidates using hamming distance\n"
     ]
    },
    {
     "name": "stderr",
     "output_type": "stream",
     "text": [
      "100%|██████████| 3667/3667 [01:18<00:00, 46.44it/s]\n"
     ]
    },
    {
     "name": "stdout",
     "output_type": "stream",
     "text": [
      "\n",
      "Prec@K = 0.6486, Recall@K = 0.1154, NDCG@K = 0.7662\n",
      "Epoch:10/15 10950/11016: Loss:4498.965 AvgLoss:865.328"
     ]
    },
    {
     "name": "stderr",
     "output_type": "stream",
     "text": [
      "  1%|          | 104/11016 [00:00<00:10, 1036.36it/s]"
     ]
    },
    {
     "name": "stdout",
     "output_type": "stream",
     "text": [
      "\r",
      "Epoch:10/15 11000/11016: Loss:6203.389 AvgLoss:885.638"
     ]
    },
    {
     "name": "stderr",
     "output_type": "stream",
     "text": [
      "100%|██████████| 11016/11016 [00:12<00:00, 888.66it/s]\n",
      "100%|██████████| 3667/3667 [00:04<00:00, 841.43it/s]\n"
     ]
    },
    {
     "name": "stdout",
     "output_type": "stream",
     "text": [
      "Retrieve Top100 candidates using hamming distance\n"
     ]
    },
    {
     "name": "stderr",
     "output_type": "stream",
     "text": [
      "100%|██████████| 3667/3667 [01:17<00:00, 47.14it/s]\n"
     ]
    },
    {
     "name": "stdout",
     "output_type": "stream",
     "text": [
      "\n",
      "Prec@K = 0.6945, Recall@K = 0.1235, NDCG@K = 0.7847\n",
      "Epoch:11/15 10950/11016: Loss:4579.470 AvgLoss:844.480"
     ]
    },
    {
     "name": "stderr",
     "output_type": "stream",
     "text": [
      "  1%|          | 88/11016 [00:00<00:12, 870.39it/s]"
     ]
    },
    {
     "name": "stdout",
     "output_type": "stream",
     "text": [
      "\r",
      "Epoch:11/15 11000/11016: Loss:6161.829 AvgLoss:864.588"
     ]
    },
    {
     "name": "stderr",
     "output_type": "stream",
     "text": [
      "100%|██████████| 11016/11016 [00:11<00:00, 951.05it/s] \n",
      "100%|██████████| 3667/3667 [00:04<00:00, 894.68it/s]\n"
     ]
    },
    {
     "name": "stdout",
     "output_type": "stream",
     "text": [
      "Retrieve Top100 candidates using hamming distance\n"
     ]
    },
    {
     "name": "stderr",
     "output_type": "stream",
     "text": [
      "100%|██████████| 3667/3667 [01:20<00:00, 45.83it/s]\n"
     ]
    },
    {
     "name": "stdout",
     "output_type": "stream",
     "text": [
      "\n",
      "Prec@K = 0.7290, Recall@K = 0.1298, NDCG@K = 0.8047\n",
      "Epoch:12/15 10950/11016: Loss:4457.546 AvgLoss:829.643"
     ]
    },
    {
     "name": "stderr",
     "output_type": "stream",
     "text": [
      "  1%|          | 94/11016 [00:00<00:11, 930.95it/s]"
     ]
    },
    {
     "name": "stdout",
     "output_type": "stream",
     "text": [
      "\r",
      "Epoch:12/15 11000/11016: Loss:6229.808 AvgLoss:849.636"
     ]
    },
    {
     "name": "stderr",
     "output_type": "stream",
     "text": [
      "100%|██████████| 11016/11016 [00:10<00:00, 1074.83it/s]\n",
      "100%|██████████| 3667/3667 [00:04<00:00, 897.37it/s]\n"
     ]
    },
    {
     "name": "stdout",
     "output_type": "stream",
     "text": [
      "Retrieve Top100 candidates using hamming distance\n"
     ]
    },
    {
     "name": "stderr",
     "output_type": "stream",
     "text": [
      "100%|██████████| 3667/3667 [01:19<00:00, 46.21it/s]\n"
     ]
    },
    {
     "name": "stdout",
     "output_type": "stream",
     "text": [
      "\n",
      "Prec@K = 0.7387, Recall@K = 0.1317, NDCG@K = 0.8047\n",
      "Epoch:13/15 10950/11016: Loss:4362.572 AvgLoss:816.135"
     ]
    },
    {
     "name": "stderr",
     "output_type": "stream",
     "text": [
      "  1%|          | 90/11016 [00:00<00:12, 895.71it/s]"
     ]
    },
    {
     "name": "stdout",
     "output_type": "stream",
     "text": [
      "\r",
      "Epoch:13/15 11000/11016: Loss:6272.626 AvgLoss:836.011"
     ]
    },
    {
     "name": "stderr",
     "output_type": "stream",
     "text": [
      "100%|██████████| 11016/11016 [00:10<00:00, 1021.57it/s]\n",
      "100%|██████████| 3667/3667 [00:03<00:00, 960.08it/s]\n"
     ]
    },
    {
     "name": "stdout",
     "output_type": "stream",
     "text": [
      "Retrieve Top100 candidates using hamming distance\n"
     ]
    },
    {
     "name": "stderr",
     "output_type": "stream",
     "text": [
      "100%|██████████| 3667/3667 [01:19<00:00, 48.81it/s]\n"
     ]
    },
    {
     "name": "stdout",
     "output_type": "stream",
     "text": [
      "\n",
      "Prec@K = 0.7491, Recall@K = 0.1337, NDCG@K = 0.8034\n",
      "Epoch:14/15 10950/11016: Loss:4382.703 AvgLoss:807.720"
     ]
    },
    {
     "name": "stderr",
     "output_type": "stream",
     "text": [
      "  1%|          | 83/11016 [00:00<00:13, 825.63it/s]"
     ]
    },
    {
     "name": "stdout",
     "output_type": "stream",
     "text": [
      "\r",
      "Epoch:14/15 11000/11016: Loss:6237.867 AvgLoss:827.537"
     ]
    },
    {
     "name": "stderr",
     "output_type": "stream",
     "text": [
      "100%|██████████| 11016/11016 [00:11<00:00, 927.95it/s]\n",
      "100%|██████████| 3667/3667 [00:02<00:00, 1239.45it/s]\n"
     ]
    },
    {
     "name": "stdout",
     "output_type": "stream",
     "text": [
      "Retrieve Top100 candidates using hamming distance\n"
     ]
    },
    {
     "name": "stderr",
     "output_type": "stream",
     "text": [
      "100%|██████████| 3667/3667 [01:20<00:00, 45.48it/s]\n"
     ]
    },
    {
     "name": "stdout",
     "output_type": "stream",
     "text": [
      "\n",
      "Prec@K = 0.7400, Recall@K = 0.1321, NDCG@K = 0.7983\n",
      "Epoch:15/15 10950/11016: Loss:4281.003 AvgLoss:799.236"
     ]
    },
    {
     "name": "stderr",
     "output_type": "stream",
     "text": [
      "  1%|          | 115/11016 [00:00<00:09, 1146.97it/s]"
     ]
    },
    {
     "name": "stdout",
     "output_type": "stream",
     "text": [
      "\r",
      "Epoch:15/15 11000/11016: Loss:6161.544 AvgLoss:819.146"
     ]
    },
    {
     "name": "stderr",
     "output_type": "stream",
     "text": [
      "100%|██████████| 11016/11016 [00:08<00:00, 1305.01it/s]\n",
      "100%|██████████| 3667/3667 [00:03<00:00, 1063.31it/s]\n"
     ]
    },
    {
     "name": "stdout",
     "output_type": "stream",
     "text": [
      "Retrieve Top100 candidates using hamming distance\n"
     ]
    },
    {
     "name": "stderr",
     "output_type": "stream",
     "text": [
      "100%|██████████| 3667/3667 [01:22<00:00, 44.48it/s]"
     ]
    },
    {
     "name": "stdout",
     "output_type": "stream",
     "text": [
      "\n",
      "Prec@K = 0.7545, Recall@K = 0.1351, NDCG@K = 0.8020\n"
     ]
    },
    {
     "name": "stderr",
     "output_type": "stream",
     "text": [
      "\n"
     ]
    }
   ],
   "source": [
    "total_epoch = 15\n",
    "kl_weight = 0.\n",
    "kl_inc = 1 / 5000. # set the annealing rate for KL loss\n",
    "\n",
    "pred_weight = 0.\n",
    "pred_inc = 0.1\n",
    "max_pred_weight = 150.\n",
    "\n",
    "for epoch in xrange(total_epoch):\n",
    "    epoch_loss = []\n",
    "    for i in range(len(data.train)):\n",
    "        # get doc\n",
    "        doc = data.train[i]\n",
    "        labels = data.gnd_train[i]\n",
    "        word_indice = np.where(doc > 0)[0]\n",
    "        \n",
    "        # indices\n",
    "        opt, loss = model.sess.run((my_optimizer, model.cost), \n",
    "                                    feed_dict={model.input_bow: doc.reshape((-1, data.n_feas)),\n",
    "                                               model.input_bow_idx: word_indice,\n",
    "                                               model.labels: labels.reshape((-1, data.n_tags)),\n",
    "                                               model.kl_weight: kl_weight,\n",
    "                                               model.tag_weight: pred_weight,\n",
    "                                               model.keep_prob: 0.9})\n",
    "        \n",
    "        kl_weight = min(kl_weight + kl_inc, 1.0)\n",
    "        pred_weight = min(pred_weight + pred_inc, max_pred_weight)\n",
    "\n",
    "        epoch_loss.append(loss[0])\n",
    "        \n",
    "        if i % 50 == 0:\n",
    "            print(\"\\rEpoch:{}/{} {}/{}: Loss:{:.3f} AvgLoss:{:.3f}\".format(epoch+1, total_epoch, i, \n",
    "                                                                           data.n_trains, loss[0], np.mean(epoch_loss)), end='')\n",
    "            \n",
    "    # run experiment on CV dataset\n",
    "    zTrain = model.transform(data.train)\n",
    "    zCV = model.transform(data.cv)\n",
    "    zTrain = np.array(zTrain)\n",
    "    zCV = np.array(zCV)\n",
    "    medHash = MedianHashing()\n",
    "    cbTrain = medHash.fit_transform(zTrain)\n",
    "    cbCV = medHash.transform(zCV)\n",
    "\n",
    "    TopK=100\n",
    "    print('Retrieve Top{} candidates using hamming distance'.format(TopK))\n",
    "    results = run_topK_retrieval_experiment(cbTrain, cbCV, data.gnd_train, data.gnd_cv, TopK)\n",
    "    avg_prec_at_k, avg_recall_at_k, avg_ndcg"
   ]
  },
  {
   "cell_type": "code",
   "execution_count": 4,
   "metadata": {
    "collapsed": false
   },
   "outputs": [
    {
     "name": "stderr",
     "output_type": "stream",
     "text": [
      "100%|██████████| 11016/11016 [00:11<00:00, 935.43it/s]\n",
      "100%|██████████| 3668/3668 [00:03<00:00, 1003.25it/s]\n"
     ]
    },
    {
     "name": "stdout",
     "output_type": "stream",
     "text": [
      "Retrieve Top100 candidates using hamming distance\n"
     ]
    },
    {
     "name": "stderr",
     "output_type": "stream",
     "text": [
      "100%|██████████| 3668/3668 [01:20<00:00, 45.41it/s]"
     ]
    },
    {
     "name": "stdout",
     "output_type": "stream",
     "text": [
      "\n",
      "Prec@K = 0.7475, Recall@K = 0.1339, NDCG@K = 0.7973\n"
     ]
    },
    {
     "name": "stderr",
     "output_type": "stream",
     "text": [
      "\n"
     ]
    }
   ],
   "source": [
    "# run experiment here\n",
    "zTrain = model.transform(data.train)\n",
    "zTest = model.transform(data.test)\n",
    "zTrain = np.array(zTrain)\n",
    "zTest = np.array(zTest)\n",
    "medHash = MedianHashing()\n",
    "cbTrain = medHash.fit_transform(zTrain)\n",
    "cbTest = medHash.transform(zTest)\n",
    "\n",
    "TopK=100\n",
    "print('Retrieve Top{} candidates using hamming distance'.format(TopK))\n",
    "results = run_topK_retrieval_experiment(cbTrain, cbTest, data.gnd_train, data.gnd_test, TopK)"
   ]
  }
 ],
 "metadata": {
  "kernelspec": {
   "display_name": "Python 2",
   "language": "python",
   "name": "python2"
  },
  "language_info": {
   "codemirror_mode": {
    "name": "ipython",
    "version": 2
   },
   "file_extension": ".py",
   "mimetype": "text/x-python",
   "name": "python",
   "nbconvert_exporter": "python",
   "pygments_lexer": "ipython2",
   "version": "2.7.11"
  }
 },
 "nbformat": 4,
 "nbformat_minor": 0
}
